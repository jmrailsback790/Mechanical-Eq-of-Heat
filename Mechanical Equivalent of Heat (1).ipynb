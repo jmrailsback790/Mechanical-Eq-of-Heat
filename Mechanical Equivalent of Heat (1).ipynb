{
 "cells": [
  {
   "cell_type": "markdown",
   "metadata": {},
   "source": [
    "#MECH EQ OF HEAT"
   ]
  },
  {
   "cell_type": "code",
   "execution_count": 21,
   "metadata": {
    "scrolled": true
   },
   "outputs": [
    {
     "name": "stdout",
     "output_type": "stream",
     "text": [
      "0.14142135623730953\n",
      "11.40854712791704\n",
      "6.150584751738977\n",
      "0.04103646394068841\n",
      "J = 4.364606674076801 +/- 0.04103646394068841\n"
     ]
    }
   ],
   "source": [
    "import math as np\n",
    "\n",
    "#Units\n",
    "T_s = 12.63\n",
    "T_f = 29.0\n",
    "dT = T_f - T_s\n",
    "\n",
    "m = .2029\n",
    "𝛿m = 0.0001\n",
    "\n",
    "M = 6.355\n",
    "𝛿M = 0.0001\n",
    "\n",
    "r = 0.024\n",
    "g = 9.81\n",
    "N = 330\n",
    "c = 214\n",
    "\n",
    "#Calculate WORK\n",
    "W = (r * M * g) * (2 * np.pi * N)\n",
    "\n",
    "#Calculate HEAT\n",
    "Q = m * c * dT\n",
    "\n",
    "#Find J\n",
    "J = W / Q\n",
    "\n",
    "#Uncertainties\n",
    "𝛿T_s = 0.1\n",
    "𝛿T_f = 0.1\n",
    "𝛿dT = np.sqrt(((𝛿T_s) ** 2) + ((𝛿T_f) ** 2))\n",
    "print(𝛿dT)\n",
    "\n",
    "𝛿r = 0.00005\n",
    "\n",
    "𝛿N = 1\n",
    "\n",
    "𝛿W = abs(W) * np.sqrt(((𝛿M / M) ** 2) + ((𝛿r / r) ** 2) + ((𝛿N / N) ** 2))\n",
    "print(𝛿W)\n",
    "\n",
    "𝛿Q = abs(Q) * np.sqrt(((𝛿m / m) ** 2) + ((𝛿dT / dT) **2))\n",
    "print(𝛿Q)\n",
    "\n",
    "𝛿J = abs(J) * np.sqrt(((𝛿W / W) ** 2) +((𝛿Q / Q) ** 2))\n",
    "print(𝛿J)\n",
    "\n",
    "#FINAL VALUE OF J\n",
    "print('J =', J, '+/-', 𝛿J)"
   ]
  },
  {
   "cell_type": "code",
   "execution_count": null,
   "metadata": {},
   "outputs": [],
   "source": [
    "\n"
   ]
  }
 ],
 "metadata": {
  "kernelspec": {
   "display_name": "Python 3",
   "language": "python",
   "name": "python3"
  },
  "language_info": {
   "codemirror_mode": {
    "name": "ipython",
    "version": 3
   },
   "file_extension": ".py",
   "mimetype": "text/x-python",
   "name": "python",
   "nbconvert_exporter": "python",
   "pygments_lexer": "ipython3",
   "version": "3.8.5"
  }
 },
 "nbformat": 4,
 "nbformat_minor": 4
}
